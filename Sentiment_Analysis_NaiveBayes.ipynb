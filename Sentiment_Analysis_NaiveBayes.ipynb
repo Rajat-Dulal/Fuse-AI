{
 "cells": [
  {
   "cell_type": "markdown",
   "id": "d28415df-e31d-4b96-9418-c41b8e2d9e79",
   "metadata": {},
   "source": [
    "STEP 1: IMPORTING LIBRARIES AND ITS DEPENDENCIES"
   ]
  },
  {
   "cell_type": "code",
   "execution_count": 1,
   "id": "65b26dab-6ccf-4f6f-a881-05971a2480f8",
   "metadata": {
    "tags": []
   },
   "outputs": [],
   "source": [
    "import pandas as pd\n",
    "import numpy as np\n",
    "import matplotlib.pyplot as plt\n",
    "import os"
   ]
  },
  {
   "cell_type": "markdown",
   "id": "a24346be-0f94-414a-9416-0f1e67e77773",
   "metadata": {},
   "source": [
    "Step 2: DATA PRE-PROCESSING"
   ]
  },
  {
   "cell_type": "code",
   "execution_count": 2,
   "id": "ba06552a-b995-4bc3-85f1-bab1e74f63e8",
   "metadata": {
    "tags": []
   },
   "outputs": [
    {
     "name": "stdout",
     "output_type": "stream",
     "text": [
      "C:\\Users\\rjtdu\\OneDrive\\Desktop\\Fuse Deeplearning\\Project\\Code Here\n",
      "['.ipynb_checkpoints', 'mergeData.csv', 'Preprocessing.ipynb', 'test.csv', 'train.csv']\n"
     ]
    }
   ],
   "source": [
    "#Get the location of the datasets\n",
    "directory = os.getcwd()\n",
    "print(directory)\n",
    "loc = directory + '\\Datasets'\n",
    "print(os.listdir(loc))"
   ]
  },
  {
   "cell_type": "code",
   "execution_count": 3,
   "id": "b3e10fdb-1b6e-4703-8d11-08a1c0bcb79b",
   "metadata": {
    "tags": []
   },
   "outputs": [],
   "source": [
    "#Reading all the datasets as dataframes\n",
    "df1 = pd.read_csv(loc + '\\\\mergeData.csv')\n",
    "df2 = pd.read_csv(loc + '\\\\test.csv')\n",
    "df3 = pd.read_csv(loc + '\\\\train.csv')"
   ]
  },
  {
   "cell_type": "code",
   "execution_count": 4,
   "id": "19ed7ec4-4613-4e97-8dbd-da1a4a4c1258",
   "metadata": {
    "tags": []
   },
   "outputs": [
    {
     "name": "stdout",
     "output_type": "stream",
     "text": [
      "Index(['Data ', 'Label'], dtype='object')\n",
      "Index(['text', 'label'], dtype='object')\n",
      "Index(['text', 'label'], dtype='object')\n"
     ]
    }
   ],
   "source": [
    "#Getting the column names of each dataframes\n",
    "print(df1.columns)\n",
    "print(df2.columns)\n",
    "print(df3.columns)"
   ]
  },
  {
   "cell_type": "code",
   "execution_count": 5,
   "id": "71fa4853-4c07-47ed-a22f-1b481416c571",
   "metadata": {
    "tags": []
   },
   "outputs": [
    {
     "name": "stdout",
     "output_type": "stream",
     "text": [
      "<class 'dict'>\n"
     ]
    }
   ],
   "source": [
    "#Changing the column names to identical column names\n",
    "new_columns = {'text': 'Data ', 'label' : 'Label'}\n",
    "print(type(new_columns))\n",
    "df2.rename(columns = new_columns, inplace = True)\n",
    "df3.rename(columns = new_columns, inplace = True)"
   ]
  },
  {
   "cell_type": "code",
   "execution_count": 6,
   "id": "a7deba77-24f7-4b01-9429-0a0f548f052f",
   "metadata": {
    "tags": []
   },
   "outputs": [
    {
     "name": "stdout",
     "output_type": "stream",
     "text": [
      "Index(['Data ', 'Label'], dtype='object')\n",
      "Index(['Data ', 'Label'], dtype='object')\n",
      "Index(['Data ', 'Label'], dtype='object')\n"
     ]
    }
   ],
   "source": [
    "#Getting the column names of each dataframes\n",
    "print(df1.columns)\n",
    "print(df2.columns)\n",
    "print(df3.columns)"
   ]
  },
  {
   "cell_type": "code",
   "execution_count": 7,
   "id": "c7b0d913-1428-4804-ac31-077170cca060",
   "metadata": {
    "tags": []
   },
   "outputs": [
    {
     "name": "stdout",
     "output_type": "stream",
     "text": [
      "(3084, 2)\n",
      "(1996, 2)\n",
      "(6000, 2)\n"
     ]
    },
    {
     "data": {
      "text/html": [
       "<div>\n",
       "<style scoped>\n",
       "    .dataframe tbody tr th:only-of-type {\n",
       "        vertical-align: middle;\n",
       "    }\n",
       "\n",
       "    .dataframe tbody tr th {\n",
       "        vertical-align: top;\n",
       "    }\n",
       "\n",
       "    .dataframe thead th {\n",
       "        text-align: right;\n",
       "    }\n",
       "</style>\n",
       "<table border=\"1\" class=\"dataframe\">\n",
       "  <thead>\n",
       "    <tr style=\"text-align: right;\">\n",
       "      <th></th>\n",
       "      <th>Data</th>\n",
       "      <th>Label</th>\n",
       "    </tr>\n",
       "  </thead>\n",
       "  <tbody>\n",
       "    <tr>\n",
       "      <th>0</th>\n",
       "      <td>यो समान राम्रो रहेछ</td>\n",
       "      <td>1</td>\n",
       "    </tr>\n",
       "    <tr>\n",
       "      <th>1</th>\n",
       "      <td>समान राम्रो रहेछ</td>\n",
       "      <td>1</td>\n",
       "    </tr>\n",
       "    <tr>\n",
       "      <th>2</th>\n",
       "      <td>राम्रो रहेछ</td>\n",
       "      <td>1</td>\n",
       "    </tr>\n",
       "    <tr>\n",
       "      <th>3</th>\n",
       "      <td>NaN</td>\n",
       "      <td>NaN</td>\n",
       "    </tr>\n",
       "    <tr>\n",
       "      <th>4</th>\n",
       "      <td>यो घडी मलाइ साँच्चिकै सुहाउछ । म यसलाई खरीद गर...</td>\n",
       "      <td>1</td>\n",
       "    </tr>\n",
       "    <tr>\n",
       "      <th>...</th>\n",
       "      <td>...</td>\n",
       "      <td>...</td>\n",
       "    </tr>\n",
       "    <tr>\n",
       "      <th>11075</th>\n",
       "      <td>समाज परिवर्तन गराउन लाई अरु को मुख हेर्ने भन्द...</td>\n",
       "      <td>1</td>\n",
       "    </tr>\n",
       "    <tr>\n",
       "      <th>11076</th>\n",
       "      <td>Filmy क्षेत्रमा धेरै गर्नु भयो,,अब समाज र देश ...</td>\n",
       "      <td>2</td>\n",
       "    </tr>\n",
       "    <tr>\n",
       "      <th>11077</th>\n",
       "      <td>यस्तै यस्तै कार्यक्रम अझ बढी हुन जरुरी छ कुना ...</td>\n",
       "      <td>2</td>\n",
       "    </tr>\n",
       "    <tr>\n",
       "      <th>11078</th>\n",
       "      <td>बधाई र सुभकामना ।।</td>\n",
       "      <td>1</td>\n",
       "    </tr>\n",
       "    <tr>\n",
       "      <th>11079</th>\n",
       "      <td>कार्यक्रम एकदमै सकारात्मक छ। निरन्तरता पाओस्।</td>\n",
       "      <td>1</td>\n",
       "    </tr>\n",
       "  </tbody>\n",
       "</table>\n",
       "<p>11080 rows × 2 columns</p>\n",
       "</div>"
      ],
      "text/plain": [
       "                                                   Data  Label\n",
       "0                                    यो समान राम्रो रहेछ     1\n",
       "1                                       समान राम्रो रहेछ     1\n",
       "2                                            राम्रो रहेछ     1\n",
       "3                                                    NaN   NaN\n",
       "4      यो घडी मलाइ साँच्चिकै सुहाउछ । म यसलाई खरीद गर...     1\n",
       "...                                                  ...   ...\n",
       "11075  समाज परिवर्तन गराउन लाई अरु को मुख हेर्ने भन्द...     1\n",
       "11076  Filmy क्षेत्रमा धेरै गर्नु भयो,,अब समाज र देश ...     2\n",
       "11077  यस्तै यस्तै कार्यक्रम अझ बढी हुन जरुरी छ कुना ...     2\n",
       "11078                                 बधाई र सुभकामना ।।     1\n",
       "11079      कार्यक्रम एकदमै सकारात्मक छ। निरन्तरता पाओस्।     1\n",
       "\n",
       "[11080 rows x 2 columns]"
      ]
     },
     "execution_count": 7,
     "metadata": {},
     "output_type": "execute_result"
    }
   ],
   "source": [
    "#Checking the size of each dataframe and concacting\n",
    "print(df1.shape)\n",
    "print(df2.shape)\n",
    "print(df3.shape)\n",
    "df = pd.concat([df1,df2,df3], ignore_index = True, axis = 0)\n",
    "df"
   ]
  },
  {
   "cell_type": "code",
   "execution_count": 8,
   "id": "60362a30-8b1f-4d1a-935e-97eaabe9a830",
   "metadata": {
    "tags": []
   },
   "outputs": [
    {
     "data": {
      "text/html": [
       "<div>\n",
       "<style scoped>\n",
       "    .dataframe tbody tr th:only-of-type {\n",
       "        vertical-align: middle;\n",
       "    }\n",
       "\n",
       "    .dataframe tbody tr th {\n",
       "        vertical-align: top;\n",
       "    }\n",
       "\n",
       "    .dataframe thead th {\n",
       "        text-align: right;\n",
       "    }\n",
       "</style>\n",
       "<table border=\"1\" class=\"dataframe\">\n",
       "  <thead>\n",
       "    <tr style=\"text-align: right;\">\n",
       "      <th></th>\n",
       "      <th>Data</th>\n",
       "      <th>Label</th>\n",
       "    </tr>\n",
       "  </thead>\n",
       "  <tbody>\n",
       "    <tr>\n",
       "      <th>0</th>\n",
       "      <td>यो समान राम्रो रहेछ</td>\n",
       "      <td>1</td>\n",
       "    </tr>\n",
       "    <tr>\n",
       "      <th>1</th>\n",
       "      <td>समान राम्रो रहेछ</td>\n",
       "      <td>1</td>\n",
       "    </tr>\n",
       "    <tr>\n",
       "      <th>2</th>\n",
       "      <td>राम्रो रहेछ</td>\n",
       "      <td>1</td>\n",
       "    </tr>\n",
       "    <tr>\n",
       "      <th>4</th>\n",
       "      <td>यो घडी मलाइ साँच्चिकै सुहाउछ । म यसलाई खरीद गर...</td>\n",
       "      <td>1</td>\n",
       "    </tr>\n",
       "    <tr>\n",
       "      <th>5</th>\n",
       "      <td>साँच्चिकै सुहाउछ</td>\n",
       "      <td>1</td>\n",
       "    </tr>\n",
       "    <tr>\n",
       "      <th>...</th>\n",
       "      <td>...</td>\n",
       "      <td>...</td>\n",
       "    </tr>\n",
       "    <tr>\n",
       "      <th>11075</th>\n",
       "      <td>समाज परिवर्तन गराउन लाई अरु को मुख हेर्ने भन्द...</td>\n",
       "      <td>1</td>\n",
       "    </tr>\n",
       "    <tr>\n",
       "      <th>11076</th>\n",
       "      <td>Filmy क्षेत्रमा धेरै गर्नु भयो,,अब समाज र देश ...</td>\n",
       "      <td>2</td>\n",
       "    </tr>\n",
       "    <tr>\n",
       "      <th>11077</th>\n",
       "      <td>यस्तै यस्तै कार्यक्रम अझ बढी हुन जरुरी छ कुना ...</td>\n",
       "      <td>2</td>\n",
       "    </tr>\n",
       "    <tr>\n",
       "      <th>11078</th>\n",
       "      <td>बधाई र सुभकामना ।।</td>\n",
       "      <td>1</td>\n",
       "    </tr>\n",
       "    <tr>\n",
       "      <th>11079</th>\n",
       "      <td>कार्यक्रम एकदमै सकारात्मक छ। निरन्तरता पाओस्।</td>\n",
       "      <td>1</td>\n",
       "    </tr>\n",
       "  </tbody>\n",
       "</table>\n",
       "<p>10171 rows × 2 columns</p>\n",
       "</div>"
      ],
      "text/plain": [
       "                                                   Data  Label\n",
       "0                                    यो समान राम्रो रहेछ     1\n",
       "1                                       समान राम्रो रहेछ     1\n",
       "2                                            राम्रो रहेछ     1\n",
       "4      यो घडी मलाइ साँच्चिकै सुहाउछ । म यसलाई खरीद गर...     1\n",
       "5                                       साँच्चिकै सुहाउछ     1\n",
       "...                                                  ...   ...\n",
       "11075  समाज परिवर्तन गराउन लाई अरु को मुख हेर्ने भन्द...     1\n",
       "11076  Filmy क्षेत्रमा धेरै गर्नु भयो,,अब समाज र देश ...     2\n",
       "11077  यस्तै यस्तै कार्यक्रम अझ बढी हुन जरुरी छ कुना ...     2\n",
       "11078                                 बधाई र सुभकामना ।।     1\n",
       "11079      कार्यक्रम एकदमै सकारात्मक छ। निरन्तरता पाओस्।     1\n",
       "\n",
       "[10171 rows x 2 columns]"
      ]
     },
     "execution_count": 8,
     "metadata": {},
     "output_type": "execute_result"
    }
   ],
   "source": [
    "#Removing all the missing values (NaN)\n",
    "df.dropna(axis = 0, inplace = True)\n",
    "df"
   ]
  },
  {
   "cell_type": "code",
   "execution_count": 10,
   "id": "b6d63013-9cd5-47b4-9b9b-34853d2d0ce8",
   "metadata": {
    "tags": []
   },
   "outputs": [
    {
     "data": {
      "text/plain": [
       "1     3963\n",
       "0     3697\n",
       "2     2499\n",
       "-        6\n",
       "o        2\n",
       "0        1\n",
       "20       1\n",
       "11       1\n",
       "--       1\n",
       "Name: Label, dtype: int64"
      ]
     },
     "execution_count": 10,
     "metadata": {},
     "output_type": "execute_result"
    }
   ],
   "source": [
    "#Visualizing the labels of the data which can be either 0 = negative, 1 = positive or 2 = Neutral\n",
    "df['Label'].value_counts()"
   ]
  },
  {
   "cell_type": "markdown",
   "id": "3d194da7-891c-441b-9558-407491ff1926",
   "metadata": {},
   "source": [
    "Note: There are some outlier values which must be removed in the preprocessing\n"
   ]
  },
  {
   "cell_type": "code",
   "execution_count": 11,
   "id": "65799925-048a-408c-86f2-3f537a5c9dc0",
   "metadata": {
    "tags": []
   },
   "outputs": [],
   "source": [
    "#Checking if the label value lies in ['0', '1', '2'] or not. If yes returns True for that data object else returns false.\n",
    "mask = df['Label'].isin(['0', '1', '2'])"
   ]
  },
  {
   "cell_type": "code",
   "execution_count": 12,
   "id": "b89b8ff9-b9d7-4d5a-9c49-8560db69b7dc",
   "metadata": {
    "tags": []
   },
   "outputs": [
    {
     "data": {
      "text/plain": [
       "0        True\n",
       "1        True\n",
       "2        True\n",
       "4        True\n",
       "5        True\n",
       "         ... \n",
       "11075    True\n",
       "11076    True\n",
       "11077    True\n",
       "11078    True\n",
       "11079    True\n",
       "Name: Label, Length: 10171, dtype: bool"
      ]
     },
     "execution_count": 12,
     "metadata": {},
     "output_type": "execute_result"
    }
   ],
   "source": [
    "mask"
   ]
  },
  {
   "cell_type": "code",
   "execution_count": 13,
   "id": "62608605-7d70-48a6-8694-6b1411a2a0c7",
   "metadata": {
    "tags": []
   },
   "outputs": [
    {
     "data": {
      "text/html": [
       "<div>\n",
       "<style scoped>\n",
       "    .dataframe tbody tr th:only-of-type {\n",
       "        vertical-align: middle;\n",
       "    }\n",
       "\n",
       "    .dataframe tbody tr th {\n",
       "        vertical-align: top;\n",
       "    }\n",
       "\n",
       "    .dataframe thead th {\n",
       "        text-align: right;\n",
       "    }\n",
       "</style>\n",
       "<table border=\"1\" class=\"dataframe\">\n",
       "  <thead>\n",
       "    <tr style=\"text-align: right;\">\n",
       "      <th></th>\n",
       "      <th>Data</th>\n",
       "      <th>Label</th>\n",
       "    </tr>\n",
       "  </thead>\n",
       "  <tbody>\n",
       "    <tr>\n",
       "      <th>0</th>\n",
       "      <td>यो समान राम्रो रहेछ</td>\n",
       "      <td>1</td>\n",
       "    </tr>\n",
       "    <tr>\n",
       "      <th>1</th>\n",
       "      <td>समान राम्रो रहेछ</td>\n",
       "      <td>1</td>\n",
       "    </tr>\n",
       "    <tr>\n",
       "      <th>2</th>\n",
       "      <td>राम्रो रहेछ</td>\n",
       "      <td>1</td>\n",
       "    </tr>\n",
       "    <tr>\n",
       "      <th>4</th>\n",
       "      <td>यो घडी मलाइ साँच्चिकै सुहाउछ । म यसलाई खरीद गर...</td>\n",
       "      <td>1</td>\n",
       "    </tr>\n",
       "    <tr>\n",
       "      <th>5</th>\n",
       "      <td>साँच्चिकै सुहाउछ</td>\n",
       "      <td>1</td>\n",
       "    </tr>\n",
       "    <tr>\n",
       "      <th>...</th>\n",
       "      <td>...</td>\n",
       "      <td>...</td>\n",
       "    </tr>\n",
       "    <tr>\n",
       "      <th>11075</th>\n",
       "      <td>समाज परिवर्तन गराउन लाई अरु को मुख हेर्ने भन्द...</td>\n",
       "      <td>1</td>\n",
       "    </tr>\n",
       "    <tr>\n",
       "      <th>11076</th>\n",
       "      <td>Filmy क्षेत्रमा धेरै गर्नु भयो,,अब समाज र देश ...</td>\n",
       "      <td>2</td>\n",
       "    </tr>\n",
       "    <tr>\n",
       "      <th>11077</th>\n",
       "      <td>यस्तै यस्तै कार्यक्रम अझ बढी हुन जरुरी छ कुना ...</td>\n",
       "      <td>2</td>\n",
       "    </tr>\n",
       "    <tr>\n",
       "      <th>11078</th>\n",
       "      <td>बधाई र सुभकामना ।।</td>\n",
       "      <td>1</td>\n",
       "    </tr>\n",
       "    <tr>\n",
       "      <th>11079</th>\n",
       "      <td>कार्यक्रम एकदमै सकारात्मक छ। निरन्तरता पाओस्।</td>\n",
       "      <td>1</td>\n",
       "    </tr>\n",
       "  </tbody>\n",
       "</table>\n",
       "<p>10159 rows × 2 columns</p>\n",
       "</div>"
      ],
      "text/plain": [
       "                                                   Data  Label\n",
       "0                                    यो समान राम्रो रहेछ     1\n",
       "1                                       समान राम्रो रहेछ     1\n",
       "2                                            राम्रो रहेछ     1\n",
       "4      यो घडी मलाइ साँच्चिकै सुहाउछ । म यसलाई खरीद गर...     1\n",
       "5                                       साँच्चिकै सुहाउछ     1\n",
       "...                                                  ...   ...\n",
       "11075  समाज परिवर्तन गराउन लाई अरु को मुख हेर्ने भन्द...     1\n",
       "11076  Filmy क्षेत्रमा धेरै गर्नु भयो,,अब समाज र देश ...     2\n",
       "11077  यस्तै यस्तै कार्यक्रम अझ बढी हुन जरुरी छ कुना ...     2\n",
       "11078                                 बधाई र सुभकामना ।।     1\n",
       "11079      कार्यक्रम एकदमै सकारात्मक छ। निरन्तरता पाओस्।     1\n",
       "\n",
       "[10159 rows x 2 columns]"
      ]
     },
     "execution_count": 13,
     "metadata": {},
     "output_type": "execute_result"
    }
   ],
   "source": [
    "df_filtered = df[mask]\n",
    "df_filtered"
   ]
  },
  {
   "cell_type": "markdown",
   "id": "079d1ef6-45f3-4aac-a1a6-d87e4126f728",
   "metadata": {},
   "source": [
    "Note: As you can see some data objects got removed since size reduced fromm 10171 to 10159"
   ]
  },
  {
   "cell_type": "code",
   "execution_count": 14,
   "id": "82b269c3-92fc-4e46-86c3-da9b3831dc6e",
   "metadata": {
    "tags": []
   },
   "outputs": [
    {
     "data": {
      "text/html": [
       "<div>\n",
       "<style scoped>\n",
       "    .dataframe tbody tr th:only-of-type {\n",
       "        vertical-align: middle;\n",
       "    }\n",
       "\n",
       "    .dataframe tbody tr th {\n",
       "        vertical-align: top;\n",
       "    }\n",
       "\n",
       "    .dataframe thead th {\n",
       "        text-align: right;\n",
       "    }\n",
       "</style>\n",
       "<table border=\"1\" class=\"dataframe\">\n",
       "  <thead>\n",
       "    <tr style=\"text-align: right;\">\n",
       "      <th></th>\n",
       "      <th>Data</th>\n",
       "      <th>Label</th>\n",
       "    </tr>\n",
       "  </thead>\n",
       "  <tbody>\n",
       "    <tr>\n",
       "      <th>0</th>\n",
       "      <td>यो समान राम्रो रहेछ</td>\n",
       "      <td>1</td>\n",
       "    </tr>\n",
       "    <tr>\n",
       "      <th>1</th>\n",
       "      <td>समान राम्रो रहेछ</td>\n",
       "      <td>1</td>\n",
       "    </tr>\n",
       "    <tr>\n",
       "      <th>2</th>\n",
       "      <td>राम्रो रहेछ</td>\n",
       "      <td>1</td>\n",
       "    </tr>\n",
       "    <tr>\n",
       "      <th>3</th>\n",
       "      <td>यो घडी मलाइ साँच्चिकै सुहाउछ । म यसलाई खरीद गर...</td>\n",
       "      <td>1</td>\n",
       "    </tr>\n",
       "    <tr>\n",
       "      <th>4</th>\n",
       "      <td>साँच्चिकै सुहाउछ</td>\n",
       "      <td>1</td>\n",
       "    </tr>\n",
       "    <tr>\n",
       "      <th>...</th>\n",
       "      <td>...</td>\n",
       "      <td>...</td>\n",
       "    </tr>\n",
       "    <tr>\n",
       "      <th>10154</th>\n",
       "      <td>समाज परिवर्तन गराउन लाई अरु को मुख हेर्ने भन्द...</td>\n",
       "      <td>1</td>\n",
       "    </tr>\n",
       "    <tr>\n",
       "      <th>10155</th>\n",
       "      <td>Filmy क्षेत्रमा धेरै गर्नु भयो,,अब समाज र देश ...</td>\n",
       "      <td>2</td>\n",
       "    </tr>\n",
       "    <tr>\n",
       "      <th>10156</th>\n",
       "      <td>यस्तै यस्तै कार्यक्रम अझ बढी हुन जरुरी छ कुना ...</td>\n",
       "      <td>2</td>\n",
       "    </tr>\n",
       "    <tr>\n",
       "      <th>10157</th>\n",
       "      <td>बधाई र सुभकामना ।।</td>\n",
       "      <td>1</td>\n",
       "    </tr>\n",
       "    <tr>\n",
       "      <th>10158</th>\n",
       "      <td>कार्यक्रम एकदमै सकारात्मक छ। निरन्तरता पाओस्।</td>\n",
       "      <td>1</td>\n",
       "    </tr>\n",
       "  </tbody>\n",
       "</table>\n",
       "<p>10159 rows × 2 columns</p>\n",
       "</div>"
      ],
      "text/plain": [
       "                                                   Data  Label\n",
       "0                                    यो समान राम्रो रहेछ     1\n",
       "1                                       समान राम्रो रहेछ     1\n",
       "2                                            राम्रो रहेछ     1\n",
       "3      यो घडी मलाइ साँच्चिकै सुहाउछ । म यसलाई खरीद गर...     1\n",
       "4                                       साँच्चिकै सुहाउछ     1\n",
       "...                                                  ...   ...\n",
       "10154  समाज परिवर्तन गराउन लाई अरु को मुख हेर्ने भन्द...     1\n",
       "10155  Filmy क्षेत्रमा धेरै गर्नु भयो,,अब समाज र देश ...     2\n",
       "10156  यस्तै यस्तै कार्यक्रम अझ बढी हुन जरुरी छ कुना ...     2\n",
       "10157                                 बधाई र सुभकामना ।।     1\n",
       "10158      कार्यक्रम एकदमै सकारात्मक छ। निरन्तरता पाओस्।     1\n",
       "\n",
       "[10159 rows x 2 columns]"
      ]
     },
     "execution_count": 14,
     "metadata": {},
     "output_type": "execute_result"
    }
   ],
   "source": [
    "#Rearranging the index of the data frame\n",
    "df = df_filtered\n",
    "df.reset_index(drop = True, inplace = True)\n",
    "df"
   ]
  },
  {
   "cell_type": "code",
   "execution_count": 21,
   "id": "0a664e83-5993-4ab8-a294-9a8958e03808",
   "metadata": {
    "tags": []
   },
   "outputs": [
    {
     "name": "stdout",
     "output_type": "stream",
     "text": [
      "1    3963\n",
      "0    3697\n",
      "2    2499\n",
      "Name: Label, dtype: int64\n"
     ]
    }
   ],
   "source": [
    "#Visualizing the Input Data After Preprocessing - Bar Plot\n",
    "data = df['Label'].value_counts()\n",
    "print(data)"
   ]
  },
  {
   "cell_type": "code",
   "execution_count": 41,
   "id": "3b1dc523-0e6c-4997-b575-31a73e558315",
   "metadata": {
    "tags": []
   },
   "outputs": [
    {
     "data": {
      "image/png": "[encoded data removed]",
      "text/plain": [
       "<Figure size 640x480 with 1 Axes>"
      ]
     },
     "metadata": {},
     "output_type": "display_data"
    }
   ],
   "source": [
    "values = data.index\n",
    "frequency = data.values\n",
    "\n",
    "plt.bar(values,frequency)\n",
    "plt.xlabel('Sentiment')\n",
    "plt.ylabel('Frequency')\n",
    "plt.title('Bar Graph Of Overall Dataset')\n",
    "plt.grid(axis='y', which='major', color='gray', alpha=0.5)\n",
    "plt.gca().set_axisbelow(True)  # Ensure that grid lines are plotted below the bars\n",
    "\n",
    "plt.xticks(ticks = ['1', '0', '2'], labels = ['Positive (1)', 'Negative (0)', 'Neutral (2)'])\n",
    "plt.tight_layout()\n",
    "plt.show()"
   ]
  },
  {
   "cell_type": "code",
   "execution_count": null,
   "id": "1af4cd6a-7049-41d4-be0b-341908433a05",
   "metadata": {
    "tags": []
   },
   "outputs": [],
   "source": []
  },
  {
   "cell_type": "code",
   "execution_count": null,
   "id": "a3cc8c1a-7bc3-4ed9-b632-edbc4dac9fc3",
   "metadata": {},
   "outputs": [],
   "source": []
  }
 ],
 "metadata": {
  "kernelspec": {
   "display_name": "Python 3 (ipykernel)",
   "language": "python",
   "name": "python3"
  },
  "language_info": {
   "codemirror_mode": {
    "name": "ipython",
    "version": 3
   },
   "file_extension": ".py",
   "mimetype": "text/x-python",
   "name": "python",
   "nbconvert_exporter": "python",
   "pygments_lexer": "ipython3",
   "version": "3.10.9"
  }
 },
 "nbformat": 4,
 "nbformat_minor": 5
}
