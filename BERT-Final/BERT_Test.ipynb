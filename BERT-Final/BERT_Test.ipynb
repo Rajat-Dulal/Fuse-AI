{
 "cells": [
  {
   "cell_type": "code",
   "execution_count": 27,
   "id": "bca16768-a8f7-492e-9797-c1a4236099c1",
   "metadata": {},
   "outputs": [],
   "source": [
    "import os\n",
    "import torch\n",
    "from transformers import BertForSequenceClassification, BertTokenizer, AutoTokenizer\n",
    "import os"
   ]
  },
  {
   "cell_type": "code",
   "execution_count": 28,
   "id": "2d1a8ec9-de49-4278-ac83-8b2d8d81fd78",
   "metadata": {
    "tags": []
   },
   "outputs": [],
   "source": [
    "cur_model = os.getcwd() + '\\\\my-model\\\\'"
   ]
  },
  {
   "cell_type": "code",
   "execution_count": 29,
   "id": "892e9ae2-c65b-407e-a782-9a1324b4a936",
   "metadata": {
    "tags": []
   },
   "outputs": [
    {
     "data": {
      "text/plain": [
       "'C:\\\\Users\\\\rjtdu\\\\OneDrive\\\\Desktop\\\\Fuse Deeplearning\\\\Project\\\\BERT-Final\\\\my-model\\\\'"
      ]
     },
     "execution_count": 29,
     "metadata": {},
     "output_type": "execute_result"
    }
   ],
   "source": [
    "cur_model"
   ]
  },
  {
   "cell_type": "code",
   "execution_count": 50,
   "id": "7473cf76-a302-430a-97a7-08bc2c3b768c",
   "metadata": {
    "tags": []
   },
   "outputs": [
    {
     "name": "stdout",
     "output_type": "stream",
     "text": [
      "tensor([1], device='cuda:0')\n",
      "tensor([[-1.0894,  2.4536, -1.5058]], device='cuda:0')\n",
      "1\n",
      "Sentence: 'फिउज मसिनको भोलीको जाचमा म पक्का पास हुन्छु। Exam राम्रो गर्छु । ' - Positive sentiment\n"
     ]
    }
   ],
   "source": [
    "tokenizer = AutoTokenizer.from_pretrained('bert-base-multilingual-cased')\n",
    "# tokenizer = BertTokenizer.from_pretrained('bert-base-multilingual-uncased')\n",
    "model = BertForSequenceClassification.from_pretrained(cur_model, num_labels=3, ignore_mismatched_sizes=True)\n",
    "\n",
    "device = torch.device('cuda' if torch.cuda.is_available() else 'cpu')\n",
    "model.to(device)\n",
    "\n",
    "# sentences = ['यो मोडेल राम्रो छ']\n",
    "# sentences = ['कस्तो चोर रहेछ']\n",
    "# sentences = ['त खराब मान्छे हो ।']\n",
    "# sentences = ['प्रकृति को सौन्दर्य देख्दा मन खुशी भएको छ।']\n",
    "# sentences = ['त्यसको कर्मचारीहरूको लापरबार गर्ने कामको वास्ता छैन।']\n",
    "# sentences = ['यो सित बर्षको मौसमले मनोबल धोकादिएको छ।']\n",
    "# sentences = ['काठमाडौं शहरमा गरिएको परिवर्तनले लोगहरूलाई चासो लगेको छ।']\n",
    "# sentences = ['स्कृतिक कार्यक्रमको अंगरागले सबैलाई मनोरञ्जन पुर्याएको छ।']\n",
    "# sentences = ['फिउज मसिनको जाच भोली छ ।']\n",
    "sentences = ['फिउज मसिनको भोलीको जाचमा म पक्का पास हुन्छु। Exam राम्रो गर्छु । ']\n",
    "\n",
    "for text in sentences:\n",
    "    inputs = tokenizer.encode_plus(\n",
    "        text,\n",
    "        add_special_tokens=True,\n",
    "        max_length=128,\n",
    "        padding='max_length',\n",
    "        truncation=True,\n",
    "        return_tensors='pt'\n",
    "    )\n",
    "    input_ids = inputs['input_ids'].to(device)\n",
    "    attention_mask = inputs['attention_mask'].to(device)\n",
    "\n",
    "    model.eval()\n",
    "    with torch.no_grad():\n",
    "        inputs = {\n",
    "            'input_ids': input_ids,\n",
    "            'attention_mask': attention_mask\n",
    "        }\n",
    "        outputs = model(**inputs)\n",
    "    \n",
    "    logits = outputs.logits\n",
    "    predicted_labels = torch.argmax(logits, dim=1)\n",
    "    \n",
    "    print(predicted_labels)\n",
    "    print(logits)\n",
    "    print(predicted_labels.item())\n",
    "    \n",
    "    if predicted_labels.item() == 0:\n",
    "        print(f\"Sentence: '{text}' - Negative sentiment\")\n",
    "    elif predicted_labels.item() == 1:\n",
    "        print(f\"Sentence: '{text}' - Positive sentiment\")        \n",
    "    else:\n",
    "        print(f\"Sentence: '{text}' - Neutral sentiment\")"
   ]
  },
  {
   "cell_type": "code",
   "execution_count": null,
   "id": "28c05d57-478e-4e96-ab32-bc5f1de65a02",
   "metadata": {
    "tags": []
   },
   "outputs": [],
   "source": []
  },
  {
   "cell_type": "code",
   "execution_count": null,
   "id": "c76b7b40-c8fa-4ca7-b318-ae9ba2e74885",
   "metadata": {},
   "outputs": [],
   "source": []
  }
 ],
 "metadata": {
  "kernelspec": {
   "display_name": "Python 3 (ipykernel)",
   "language": "python",
   "name": "python3"
  },
  "language_info": {
   "codemirror_mode": {
    "name": "ipython",
    "version": 3
   },
   "file_extension": ".py",
   "mimetype": "text/x-python",
   "name": "python",
   "nbconvert_exporter": "python",
   "pygments_lexer": "ipython3",
   "version": "3.10.9"
  }
 },
 "nbformat": 4,
 "nbformat_minor": 5
}
